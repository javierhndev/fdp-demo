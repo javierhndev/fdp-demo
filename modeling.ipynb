{
 "cells": [
  {
   "cell_type": "code",
   "execution_count": 1,
   "id": "595c7038-8c27-4f68-bdf8-3924a3e64fa1",
   "metadata": {},
   "outputs": [],
   "source": [
    "import xarray as xr\n",
    "import numpy as np\n",
    "\n",
    "import torch\n",
    "import torch.nn as nn\n",
    "from torch.utils.data import TensorDataset, DataLoader, random_split\n",
    "\n",
    "import matplotlib.pyplot as plt"
   ]
  },
  {
   "cell_type": "code",
   "execution_count": 2,
   "id": "04134f82",
   "metadata": {},
   "outputs": [
    {
     "name": "stdout",
     "output_type": "stream",
     "text": [
      "We are using: cuda\n"
     ]
    }
   ],
   "source": [
    "device = torch.device(\"cuda\" if torch.cuda.is_available() else \"cpu\")\n",
    "print('We are using:',device)"
   ]
  },
  {
   "cell_type": "markdown",
   "id": "4ecdb09e-a0d1-4505-b0b1-4ba01ab3652b",
   "metadata": {},
   "source": [
    "### READ netCDF dataset"
   ]
  },
  {
   "cell_type": "code",
   "execution_count": 3,
   "id": "932c5465-6eec-42ca-98ab-7983f72ec40b",
   "metadata": {},
   "outputs": [
    {
     "name": "stdout",
     "output_type": "stream",
     "text": [
      "<xarray.Dataset> Size: 4GB\n",
      "Dimensions:  (times: 241734, z: 65, r: 65, shot: 1050)\n",
      "Coordinates:\n",
      "  * times    (times) float32 967kB 100.0 180.0 200.0 ... 5.266e+06 5.266e+06\n",
      "  * shot     (shot) int32 4kB 160016 160067 160072 ... 194915 194959 194993\n",
      "  * z        (z) float32 260B -1.6 -1.55 -1.5 -1.45 -1.4 ... 1.45 1.5 1.55 1.6\n",
      "  * r        (r) float32 260B 0.84 0.8666 0.8931 0.9197 ... 2.487 2.513 2.54\n",
      "Data variables:\n",
      "    psirz    (times, z, r) float32 4GB ...\n",
      "    kappa    (times) float32 967kB ...\n"
     ]
    }
   ],
   "source": [
    "#Xarray reads the NETCDF lazily. Only when an operation is needed the values are loaded.\n",
    "ds_kappa_psi=xr.open_dataset('kappa_psi_dataset.nc')\n",
    "print(ds_kappa_psi)"
   ]
  },
  {
   "cell_type": "markdown",
   "id": "519339c0-2437-42fc-9645-9d2877c6d51f",
   "metadata": {},
   "source": [
    "## Reducing the imbalance in the dataset"
   ]
  },
  {
   "cell_type": "code",
   "execution_count": 4,
   "id": "76a6a0a4-a833-4013-8043-8b3ad27fa1cc",
   "metadata": {},
   "outputs": [
    {
     "data": {
      "text/plain": [
       "Text(0.5, 1.0, 'Histogram')"
      ]
     },
     "execution_count": 4,
     "metadata": {},
     "output_type": "execute_result"
    },
    {
     "data": {
      "image/png": "[encoded data removed]",
      "text/plain": [
       "<Figure size 640x480 with 1 Axes>"
      ]
     },
     "metadata": {},
     "output_type": "display_data"
    }
   ],
   "source": [
    "ds_kappa_psi['kappa'].plot.hist(bins=40)\n",
    "plt.xlabel('kappa')\n",
    "plt.title('Histogram')"
   ]
  },
  {
   "cell_type": "markdown",
   "id": "1eff9c1b-ed25-4d82-bf15-b6f073831530",
   "metadata": {},
   "source": [
    "We wnt to remove 80% of the points where 1.6<kappa<1.9"
   ]
  },
  {
   "cell_type": "code",
   "execution_count": 5,
   "id": "a3ac8ffe-d758-47e2-9f5e-333f8d344e82",
   "metadata": {},
   "outputs": [
    {
     "name": "stdout",
     "output_type": "stream",
     "text": [
      "list length: 187865\n",
      "159686\n"
     ]
    }
   ],
   "source": [
    "ratio=0.15\n",
    "#a list of time values where kappa is between certain values\n",
    "list_kappa_values =ds_kappa_psi['times'][(ds_kappa_psi['kappa']>1.65) & (ds_kappa_psi['kappa']<1.9)].values\n",
    "print('list length:',len(list_kappa_values))\n",
    "#reduce the list by 'ratio' (thos will be the ones we will keep)\n",
    "num_to_remove=int(ratio*len(list_kappa_values))\n",
    "indices_to_remove = np.random.choice(len(list_kappa_values), num_to_remove, replace=False)\n",
    "list_kappa_values=np.delete(list_kappa_values,indices_to_remove)\n",
    "print(len(list_kappa_values))"
   ]
  },
  {
   "cell_type": "code",
   "execution_count": 6,
   "id": "58a67f29-632a-4c32-8206-9baf4b4dfecf",
   "metadata": {},
   "outputs": [],
   "source": [
    "ds_small = ds_kappa_psi.drop_sel(times=list_kappa_values)"
   ]
  },
  {
   "cell_type": "code",
   "execution_count": 7,
   "id": "b5c0fcdd-6899-43c1-b9b0-a68e600fc022",
   "metadata": {},
   "outputs": [
    {
     "data": {
      "text/html": [
       "<div><svg style=\"position: absolute; width: 0; height: 0; overflow: hidden\">\n",
       "<defs>\n",
       "<symbol id=\"icon-database\" viewBox=\"0 0 32 32\">\n",
       "<path d=\"M16 0c-8.837 0-16 2.239-16 5v4c0 2.761 7.163 5 16 5s16-2.239 16-5v-4c0-2.761-7.163-5-16-5z\"></path>\n",
       "<path d=\"M16 17c-8.837 0-16-2.239-16-5v6c0 2.761 7.163 5 16 5s16-2.239 16-5v-6c0 2.761-7.163 5-16 5z\"></path>\n",
       "<path d=\"M16 26c-8.837 0-16-2.239-16-5v6c0 2.761 7.163 5 16 5s16-2.239 16-5v-6c0 2.761-7.163 5-16 5z\"></path>\n",
       "</symbol>\n",
       "<symbol id=\"icon-file-text2\" viewBox=\"0 0 32 32\">\n",
       "<path d=\"M28.681 7.159c-0.694-0.947-1.662-2.053-2.724-3.116s-2.169-2.030-3.116-2.724c-1.612-1.182-2.393-1.319-2.841-1.319h-15.5c-1.378 0-2.5 1.121-2.5 2.5v27c0 1.378 1.122 2.5 2.5 2.5h23c1.378 0 2.5-1.122 2.5-2.5v-19.5c0-0.448-0.137-1.23-1.319-2.841zM24.543 5.457c0.959 0.959 1.712 1.825 2.268 2.543h-4.811v-4.811c0.718 0.556 1.584 1.309 2.543 2.268zM28 29.5c0 0.271-0.229 0.5-0.5 0.5h-23c-0.271 0-0.5-0.229-0.5-0.5v-27c0-0.271 0.229-0.5 0.5-0.5 0 0 15.499-0 15.5 0v7c0 0.552 0.448 1 1 1h7v19.5z\"></path>\n",
       "<path d=\"M23 26h-14c-0.552 0-1-0.448-1-1s0.448-1 1-1h14c0.552 0 1 0.448 1 1s-0.448 1-1 1z\"></path>\n",
       "<path d=\"M23 22h-14c-0.552 0-1-0.448-1-1s0.448-1 1-1h14c0.552 0 1 0.448 1 1s-0.448 1-1 1z\"></path>\n",
       "<path d=\"M23 18h-14c-0.552 0-1-0.448-1-1s0.448-1 1-1h14c0.552 0 1 0.448 1 1s-0.448 1-1 1z\"></path>\n",
       "</symbol>\n",
       "</defs>\n",
       "</svg>\n",
       "<style>/* CSS stylesheet for displaying xarray objects in jupyterlab.\n",
       " *\n",
       " */\n",
       "\n",
       ":root {\n",
       "  --xr-font-color0: var(\n",
       "    --jp-content-font-color0,\n",
       "    var(--pst-color-text-base rgba(0, 0, 0, 1))\n",
       "  );\n",
       "  --xr-font-color2: var(\n",
       "    --jp-content-font-color2,\n",
       "    var(--pst-color-text-base, rgba(0, 0, 0, 0.54))\n",
       "  );\n",
       "  --xr-font-color3: var(\n",
       "    --jp-content-font-color3,\n",
       "    var(--pst-color-text-base, rgba(0, 0, 0, 0.38))\n",
       "  );\n",
       "  --xr-border-color: var(\n",
       "    --jp-border-color2,\n",
       "    hsl(from var(--pst-color-on-background, white) h s calc(l - 10))\n",
       "  );\n",
       "  --xr-disabled-color: var(\n",
       "    --jp-layout-color3,\n",
       "    hsl(from var(--pst-color-on-background, white) h s calc(l - 40))\n",
       "  );\n",
       "  --xr-background-color: var(\n",
       "    --jp-layout-color0,\n",
       "    var(--pst-color-on-background, white)\n",
       "  );\n",
       "  --xr-background-color-row-even: var(\n",
       "    --jp-layout-color1,\n",
       "    hsl(from var(--pst-color-on-background, white) h s calc(l - 5))\n",
       "  );\n",
       "  --xr-background-color-row-odd: var(\n",
       "    --jp-layout-color2,\n",
       "    hsl(from var(--pst-color-on-background, white) h s calc(l - 15))\n",
       "  );\n",
       "}\n",
       "\n",
       "html[theme=\"dark\"],\n",
       "html[data-theme=\"dark\"],\n",
       "body[data-theme=\"dark\"],\n",
       "body.vscode-dark {\n",
       "  --xr-font-color0: var(\n",
       "    --jp-content-font-color0,\n",
       "    var(--pst-color-text-base, rgba(255, 255, 255, 1))\n",
       "  );\n",
       "  --xr-font-color2: var(\n",
       "    --jp-content-font-color2,\n",
       "    var(--pst-color-text-base, rgba(255, 255, 255, 0.54))\n",
       "  );\n",
       "  --xr-font-color3: var(\n",
       "    --jp-content-font-color3,\n",
       "    var(--pst-color-text-base, rgba(255, 255, 255, 0.38))\n",
       "  );\n",
       "  --xr-border-color: var(\n",
       "    --jp-border-color2,\n",
       "    hsl(from var(--pst-color-on-background, #111111) h s calc(l + 10))\n",
       "  );\n",
       "  --xr-disabled-color: var(\n",
       "    --jp-layout-color3,\n",
       "    hsl(from var(--pst-color-on-background, #111111) h s calc(l + 40))\n",
       "  );\n",
       "  --xr-background-color: var(\n",
       "    --jp-layout-color0,\n",
       "    var(--pst-color-on-background, #111111)\n",
       "  );\n",
       "  --xr-background-color-row-even: var(\n",
       "    --jp-layout-color1,\n",
       "    hsl(from var(--pst-color-on-background, #111111) h s calc(l + 5))\n",
       "  );\n",
       "  --xr-background-color-row-odd: var(\n",
       "    --jp-layout-color2,\n",
       "    hsl(from var(--pst-color-on-background, #111111) h s calc(l + 15))\n",
       "  );\n",
       "}\n",
       "\n",
       ".xr-wrap {\n",
       "  display: block !important;\n",
       "  min-width: 300px;\n",
       "  max-width: 700px;\n",
       "}\n",
       "\n",
       ".xr-text-repr-fallback {\n",
       "  /* fallback to plain text repr when CSS is not injected (untrusted notebook) */\n",
       "  display: none;\n",
       "}\n",
       "\n",
       ".xr-header {\n",
       "  padding-top: 6px;\n",
       "  padding-bottom: 6px;\n",
       "  margin-bottom: 4px;\n",
       "  border-bottom: solid 1px var(--xr-border-color);\n",
       "}\n",
       "\n",
       ".xr-header > div,\n",
       ".xr-header > ul {\n",
       "  display: inline;\n",
       "  margin-top: 0;\n",
       "  margin-bottom: 0;\n",
       "}\n",
       "\n",
       ".xr-obj-type,\n",
       ".xr-array-name {\n",
       "  margin-left: 2px;\n",
       "  margin-right: 10px;\n",
       "}\n",
       "\n",
       ".xr-obj-type {\n",
       "  color: var(--xr-font-color2);\n",
       "}\n",
       "\n",
       ".xr-sections {\n",
       "  padding-left: 0 !important;\n",
       "  display: grid;\n",
       "  grid-template-columns: 150px auto auto 1fr 0 20px 0 20px;\n",
       "}\n",
       "\n",
       ".xr-section-item {\n",
       "  display: contents;\n",
       "}\n",
       "\n",
       ".xr-section-item input {\n",
       "  display: inline-block;\n",
       "  opacity: 0;\n",
       "  height: 0;\n",
       "}\n",
       "\n",
       ".xr-section-item input + label {\n",
       "  color: var(--xr-disabled-color);\n",
       "  border: 2px solid transparent !important;\n",
       "}\n",
       "\n",
       ".xr-section-item input:enabled + label {\n",
       "  cursor: pointer;\n",
       "  color: var(--xr-font-color2);\n",
       "}\n",
       "\n",
       ".xr-section-item input:focus + label {\n",
       "  border: 2px solid var(--xr-font-color0) !important;\n",
       "}\n",
       "\n",
       ".xr-section-item input:enabled + label:hover {\n",
       "  color: var(--xr-font-color0);\n",
       "}\n",
       "\n",
       ".xr-section-summary {\n",
       "  grid-column: 1;\n",
       "  color: var(--xr-font-color2);\n",
       "  font-weight: 500;\n",
       "}\n",
       "\n",
       ".xr-section-summary > span {\n",
       "  display: inline-block;\n",
       "  padding-left: 0.5em;\n",
       "}\n",
       "\n",
       ".xr-section-summary-in:disabled + label {\n",
       "  color: var(--xr-font-color2);\n",
       "}\n",
       "\n",
       ".xr-section-summary-in + label:before {\n",
       "  display: inline-block;\n",
       "  content: \"►\";\n",
       "  font-size: 11px;\n",
       "  width: 15px;\n",
       "  text-align: center;\n",
       "}\n",
       "\n",
       ".xr-section-summary-in:disabled + label:before {\n",
       "  color: var(--xr-disabled-color);\n",
       "}\n",
       "\n",
       ".xr-section-summary-in:checked + label:before {\n",
       "  content: \"▼\";\n",
       "}\n",
       "\n",
       ".xr-section-summary-in:checked + label > span {\n",
       "  display: none;\n",
       "}\n",
       "\n",
       ".xr-section-summary,\n",
       ".xr-section-inline-details {\n",
       "  padding-top: 4px;\n",
       "  padding-bottom: 4px;\n",
       "}\n",
       "\n",
       ".xr-section-inline-details {\n",
       "  grid-column: 2 / -1;\n",
       "}\n",
       "\n",
       ".xr-section-details {\n",
       "  display: none;\n",
       "  grid-column: 1 / -1;\n",
       "  margin-bottom: 5px;\n",
       "}\n",
       "\n",
       ".xr-section-summary-in:checked ~ .xr-section-details {\n",
       "  display: contents;\n",
       "}\n",
       "\n",
       ".xr-array-wrap {\n",
       "  grid-column: 1 / -1;\n",
       "  display: grid;\n",
       "  grid-template-columns: 20px auto;\n",
       "}\n",
       "\n",
       ".xr-array-wrap > label {\n",
       "  grid-column: 1;\n",
       "  vertical-align: top;\n",
       "}\n",
       "\n",
       ".xr-preview {\n",
       "  color: var(--xr-font-color3);\n",
       "}\n",
       "\n",
       ".xr-array-preview,\n",
       ".xr-array-data {\n",
       "  padding: 0 5px !important;\n",
       "  grid-column: 2;\n",
       "}\n",
       "\n",
       ".xr-array-data,\n",
       ".xr-array-in:checked ~ .xr-array-preview {\n",
       "  display: none;\n",
       "}\n",
       "\n",
       ".xr-array-in:checked ~ .xr-array-data,\n",
       ".xr-array-preview {\n",
       "  display: inline-block;\n",
       "}\n",
       "\n",
       ".xr-dim-list {\n",
       "  display: inline-block !important;\n",
       "  list-style: none;\n",
       "  padding: 0 !important;\n",
       "  margin: 0;\n",
       "}\n",
       "\n",
       ".xr-dim-list li {\n",
       "  display: inline-block;\n",
       "  padding: 0;\n",
       "  margin: 0;\n",
       "}\n",
       "\n",
       ".xr-dim-list:before {\n",
       "  content: \"(\";\n",
       "}\n",
       "\n",
       ".xr-dim-list:after {\n",
       "  content: \")\";\n",
       "}\n",
       "\n",
       ".xr-dim-list li:not(:last-child):after {\n",
       "  content: \",\";\n",
       "  padding-right: 5px;\n",
       "}\n",
       "\n",
       ".xr-has-index {\n",
       "  font-weight: bold;\n",
       "}\n",
       "\n",
       ".xr-var-list,\n",
       ".xr-var-item {\n",
       "  display: contents;\n",
       "}\n",
       "\n",
       ".xr-var-item > div,\n",
       ".xr-var-item label,\n",
       ".xr-var-item > .xr-var-name span {\n",
       "  background-color: var(--xr-background-color-row-even);\n",
       "  border-color: var(--xr-background-color-row-odd);\n",
       "  margin-bottom: 0;\n",
       "  padding-top: 2px;\n",
       "}\n",
       "\n",
       ".xr-var-item > .xr-var-name:hover span {\n",
       "  padding-right: 5px;\n",
       "}\n",
       "\n",
       ".xr-var-list > li:nth-child(odd) > div,\n",
       ".xr-var-list > li:nth-child(odd) > label,\n",
       ".xr-var-list > li:nth-child(odd) > .xr-var-name span {\n",
       "  background-color: var(--xr-background-color-row-odd);\n",
       "  border-color: var(--xr-background-color-row-even);\n",
       "}\n",
       "\n",
       ".xr-var-name {\n",
       "  grid-column: 1;\n",
       "}\n",
       "\n",
       ".xr-var-dims {\n",
       "  grid-column: 2;\n",
       "}\n",
       "\n",
       ".xr-var-dtype {\n",
       "  grid-column: 3;\n",
       "  text-align: right;\n",
       "  color: var(--xr-font-color2);\n",
       "}\n",
       "\n",
       ".xr-var-preview {\n",
       "  grid-column: 4;\n",
       "}\n",
       "\n",
       ".xr-index-preview {\n",
       "  grid-column: 2 / 5;\n",
       "  color: var(--xr-font-color2);\n",
       "}\n",
       "\n",
       ".xr-var-name,\n",
       ".xr-var-dims,\n",
       ".xr-var-dtype,\n",
       ".xr-preview,\n",
       ".xr-attrs dt {\n",
       "  white-space: nowrap;\n",
       "  overflow: hidden;\n",
       "  text-overflow: ellipsis;\n",
       "  padding-right: 10px;\n",
       "}\n",
       "\n",
       ".xr-var-name:hover,\n",
       ".xr-var-dims:hover,\n",
       ".xr-var-dtype:hover,\n",
       ".xr-attrs dt:hover {\n",
       "  overflow: visible;\n",
       "  width: auto;\n",
       "  z-index: 1;\n",
       "}\n",
       "\n",
       ".xr-var-attrs,\n",
       ".xr-var-data,\n",
       ".xr-index-data {\n",
       "  display: none;\n",
       "  border-top: 2px dotted var(--xr-background-color);\n",
       "  padding-bottom: 20px !important;\n",
       "  padding-top: 10px !important;\n",
       "}\n",
       "\n",
       ".xr-var-attrs-in + label,\n",
       ".xr-var-data-in + label,\n",
       ".xr-index-data-in + label {\n",
       "  padding: 0 1px;\n",
       "}\n",
       "\n",
       ".xr-var-attrs-in:checked ~ .xr-var-attrs,\n",
       ".xr-var-data-in:checked ~ .xr-var-data,\n",
       ".xr-index-data-in:checked ~ .xr-index-data {\n",
       "  display: block;\n",
       "}\n",
       "\n",
       ".xr-var-data > table {\n",
       "  float: right;\n",
       "}\n",
       "\n",
       ".xr-var-data > pre,\n",
       ".xr-index-data > pre,\n",
       ".xr-var-data > table > tbody > tr {\n",
       "  background-color: transparent !important;\n",
       "}\n",
       "\n",
       ".xr-var-name span,\n",
       ".xr-var-data,\n",
       ".xr-index-name div,\n",
       ".xr-index-data,\n",
       ".xr-attrs {\n",
       "  padding-left: 25px !important;\n",
       "}\n",
       "\n",
       ".xr-attrs,\n",
       ".xr-var-attrs,\n",
       ".xr-var-data,\n",
       ".xr-index-data {\n",
       "  grid-column: 1 / -1;\n",
       "}\n",
       "\n",
       "dl.xr-attrs {\n",
       "  padding: 0;\n",
       "  margin: 0;\n",
       "  display: grid;\n",
       "  grid-template-columns: 125px auto;\n",
       "}\n",
       "\n",
       ".xr-attrs dt,\n",
       ".xr-attrs dd {\n",
       "  padding: 0;\n",
       "  margin: 0;\n",
       "  float: left;\n",
       "  padding-right: 10px;\n",
       "  width: auto;\n",
       "}\n",
       "\n",
       ".xr-attrs dt {\n",
       "  font-weight: normal;\n",
       "  grid-column: 1;\n",
       "}\n",
       "\n",
       ".xr-attrs dt:hover span {\n",
       "  display: inline-block;\n",
       "  background: var(--xr-background-color);\n",
       "  padding-right: 10px;\n",
       "}\n",
       "\n",
       ".xr-attrs dd {\n",
       "  grid-column: 2;\n",
       "  white-space: pre-wrap;\n",
       "  word-break: break-all;\n",
       "}\n",
       "\n",
       ".xr-icon-database,\n",
       ".xr-icon-file-text2,\n",
       ".xr-no-icon {\n",
       "  display: inline-block;\n",
       "  vertical-align: middle;\n",
       "  width: 1em;\n",
       "  height: 1.5em !important;\n",
       "  stroke-width: 0;\n",
       "  stroke: currentColor;\n",
       "  fill: currentColor;\n",
       "}\n",
       "\n",
       ".xr-var-attrs-in:checked + label > .xr-icon-file-text2,\n",
       ".xr-var-data-in:checked + label > .xr-icon-database,\n",
       ".xr-index-data-in:checked + label > .xr-icon-database {\n",
       "  color: var(--xr-font-color0);\n",
       "  filter: drop-shadow(1px 1px 5px var(--xr-font-color2));\n",
       "  stroke-width: 0.8px;\n",
       "}\n",
       "</style><pre class='xr-text-repr-fallback'>&lt;xarray.Dataset&gt; Size: 1GB\n",
       "Dimensions:  (times: 82048, z: 65, r: 65, shot: 1050)\n",
       "Coordinates:\n",
       "  * times    (times) float32 328kB 100.0 360.0 460.0 ... 5.266e+06 5.266e+06\n",
       "  * shot     (shot) int32 4kB 160016 160067 160072 ... 194915 194959 194993\n",
       "  * z        (z) float32 260B -1.6 -1.55 -1.5 -1.45 -1.4 ... 1.45 1.5 1.55 1.6\n",
       "  * r        (r) float32 260B 0.84 0.8666 0.8931 0.9197 ... 2.487 2.513 2.54\n",
       "Data variables:\n",
       "    psirz    (times, z, r) float32 1GB ...\n",
       "    kappa    (times) float32 328kB 1.418 1.867 1.864 1.876 ... 1.285 1.256 1.233</pre><div class='xr-wrap' style='display:none'><div class='xr-header'><div class='xr-obj-type'>xarray.Dataset</div></div><ul class='xr-sections'><li class='xr-section-item'><input id='section-3be01d1a-10af-42c4-953a-9489bfd29bf9' class='xr-section-summary-in' type='checkbox' disabled ><label for='section-3be01d1a-10af-42c4-953a-9489bfd29bf9' class='xr-section-summary'  title='Expand/collapse section'>Dimensions:</label><div class='xr-section-inline-details'><ul class='xr-dim-list'><li><span class='xr-has-index'>times</span>: 82048</li><li><span class='xr-has-index'>z</span>: 65</li><li><span class='xr-has-index'>r</span>: 65</li><li><span class='xr-has-index'>shot</span>: 1050</li></ul></div><div class='xr-section-details'></div></li><li class='xr-section-item'><input id='section-9d3f3dcb-b45c-4d35-a933-98e1c7d96585' class='xr-section-summary-in' type='checkbox'  checked><label for='section-9d3f3dcb-b45c-4d35-a933-98e1c7d96585' class='xr-section-summary' >Coordinates: <span>(4)</span></label><div class='xr-section-inline-details'></div><div class='xr-section-details'><ul class='xr-var-list'><li class='xr-var-item'><div class='xr-var-name'><span class='xr-has-index'>times</span></div><div class='xr-var-dims'>(times)</div><div class='xr-var-dtype'>float32</div><div class='xr-var-preview xr-preview'>100.0 360.0 ... 5.266e+06 5.266e+06</div><input id='attrs-c2822977-60ab-4124-a25c-9b21f0f9985e' class='xr-var-attrs-in' type='checkbox' ><label for='attrs-c2822977-60ab-4124-a25c-9b21f0f9985e' title='Show/Hide attributes'><svg class='icon xr-icon-file-text2'><use xlink:href='#icon-file-text2'></use></svg></label><input id='data-e3fecac9-7e71-4a7e-8ecb-c7470f28825c' class='xr-var-data-in' type='checkbox'><label for='data-e3fecac9-7e71-4a7e-8ecb-c7470f28825c' title='Show/Hide data repr'><svg class='icon xr-icon-database'><use xlink:href='#icon-database'></use></svg></label><div class='xr-var-attrs'><dl class='xr-attrs'><dt><span>units :</span></dt><dd>ms</dd></dl></div><div class='xr-var-data'><pre>array([1.00000e+02, 3.60000e+02, 4.60000e+02, ..., 5.26582e+06, 5.26586e+06,\n",
       "       5.26590e+06], shape=(82048,), dtype=float32)</pre></div></li><li class='xr-var-item'><div class='xr-var-name'><span class='xr-has-index'>shot</span></div><div class='xr-var-dims'>(shot)</div><div class='xr-var-dtype'>int32</div><div class='xr-var-preview xr-preview'>160016 160067 ... 194959 194993</div><input id='attrs-48df591f-1d06-444d-b2b3-a9b4a30e7563' class='xr-var-attrs-in' type='checkbox' disabled><label for='attrs-48df591f-1d06-444d-b2b3-a9b4a30e7563' title='Show/Hide attributes'><svg class='icon xr-icon-file-text2'><use xlink:href='#icon-file-text2'></use></svg></label><input id='data-38fa7225-18bc-49d2-b5f6-f23b4d98a917' class='xr-var-data-in' type='checkbox'><label for='data-38fa7225-18bc-49d2-b5f6-f23b4d98a917' title='Show/Hide data repr'><svg class='icon xr-icon-database'><use xlink:href='#icon-database'></use></svg></label><div class='xr-var-attrs'><dl class='xr-attrs'></dl></div><div class='xr-var-data'><pre>array([160016, 160067, 160072, ..., 194915, 194959, 194993],\n",
       "      shape=(1050,), dtype=int32)</pre></div></li><li class='xr-var-item'><div class='xr-var-name'><span class='xr-has-index'>z</span></div><div class='xr-var-dims'>(z)</div><div class='xr-var-dtype'>float32</div><div class='xr-var-preview xr-preview'>-1.6 -1.55 -1.5 ... 1.5 1.55 1.6</div><input id='attrs-6b42ac99-27a3-4875-a82b-f2787e462f07' class='xr-var-attrs-in' type='checkbox' ><label for='attrs-6b42ac99-27a3-4875-a82b-f2787e462f07' title='Show/Hide attributes'><svg class='icon xr-icon-file-text2'><use xlink:href='#icon-file-text2'></use></svg></label><input id='data-7fe2b80f-d5f7-487b-8070-7c565fda5d46' class='xr-var-data-in' type='checkbox'><label for='data-7fe2b80f-d5f7-487b-8070-7c565fda5d46' title='Show/Hide data repr'><svg class='icon xr-icon-database'><use xlink:href='#icon-database'></use></svg></label><div class='xr-var-attrs'><dl class='xr-attrs'><dt><span>units :</span></dt><dd>m</dd></dl></div><div class='xr-var-data'><pre>array([-1.6 , -1.55, -1.5 , -1.45, -1.4 , -1.35, -1.3 , -1.25, -1.2 , -1.15,\n",
       "       -1.1 , -1.05, -1.  , -0.95, -0.9 , -0.85, -0.8 , -0.75, -0.7 , -0.65,\n",
       "       -0.6 , -0.55, -0.5 , -0.45, -0.4 , -0.35, -0.3 , -0.25, -0.2 , -0.15,\n",
       "       -0.1 , -0.05,  0.  ,  0.05,  0.1 ,  0.15,  0.2 ,  0.25,  0.3 ,  0.35,\n",
       "        0.4 ,  0.45,  0.5 ,  0.55,  0.6 ,  0.65,  0.7 ,  0.75,  0.8 ,  0.85,\n",
       "        0.9 ,  0.95,  1.  ,  1.05,  1.1 ,  1.15,  1.2 ,  1.25,  1.3 ,  1.35,\n",
       "        1.4 ,  1.45,  1.5 ,  1.55,  1.6 ], dtype=float32)</pre></div></li><li class='xr-var-item'><div class='xr-var-name'><span class='xr-has-index'>r</span></div><div class='xr-var-dims'>(r)</div><div class='xr-var-dtype'>float32</div><div class='xr-var-preview xr-preview'>0.84 0.8666 0.8931 ... 2.513 2.54</div><input id='attrs-84984f39-0800-4fc4-862b-1df5a9b4c87d' class='xr-var-attrs-in' type='checkbox' ><label for='attrs-84984f39-0800-4fc4-862b-1df5a9b4c87d' title='Show/Hide attributes'><svg class='icon xr-icon-file-text2'><use xlink:href='#icon-file-text2'></use></svg></label><input id='data-2d94e410-fb13-4173-99fa-fd3fcdc573a0' class='xr-var-data-in' type='checkbox'><label for='data-2d94e410-fb13-4173-99fa-fd3fcdc573a0' title='Show/Hide data repr'><svg class='icon xr-icon-database'><use xlink:href='#icon-database'></use></svg></label><div class='xr-var-attrs'><dl class='xr-attrs'><dt><span>units :</span></dt><dd>m</dd></dl></div><div class='xr-var-data'><pre>array([0.84    , 0.866562, 0.893125, 0.919688, 0.94625 , 0.972812, 0.999375,\n",
       "       1.025937, 1.0525  , 1.079062, 1.105625, 1.132187, 1.15875 , 1.185313,\n",
       "       1.211875, 1.238437, 1.265   , 1.291563, 1.318125, 1.344687, 1.37125 ,\n",
       "       1.397812, 1.424375, 1.450938, 1.4775  , 1.504062, 1.530625, 1.557188,\n",
       "       1.58375 , 1.610312, 1.636875, 1.663437, 1.69    , 1.716563, 1.743125,\n",
       "       1.769687, 1.79625 , 1.822813, 1.849375, 1.875937, 1.9025  , 1.929063,\n",
       "       1.955625, 1.982188, 2.00875 , 2.035312, 2.061875, 2.088438, 2.115   ,\n",
       "       2.141562, 2.168125, 2.194688, 2.22125 , 2.247813, 2.274375, 2.300937,\n",
       "       2.3275  , 2.354063, 2.380625, 2.407187, 2.43375 , 2.460313, 2.486875,\n",
       "       2.513438, 2.54    ], dtype=float32)</pre></div></li></ul></div></li><li class='xr-section-item'><input id='section-8735652f-c379-45bc-9f3e-015fd03d6f21' class='xr-section-summary-in' type='checkbox'  checked><label for='section-8735652f-c379-45bc-9f3e-015fd03d6f21' class='xr-section-summary' >Data variables: <span>(2)</span></label><div class='xr-section-inline-details'></div><div class='xr-section-details'><ul class='xr-var-list'><li class='xr-var-item'><div class='xr-var-name'><span>psirz</span></div><div class='xr-var-dims'>(times, z, r)</div><div class='xr-var-dtype'>float32</div><div class='xr-var-preview xr-preview'>...</div><input id='attrs-6b9fe89a-4c75-45ff-98e7-23f53589b8ab' class='xr-var-attrs-in' type='checkbox' ><label for='attrs-6b9fe89a-4c75-45ff-98e7-23f53589b8ab' title='Show/Hide attributes'><svg class='icon xr-icon-file-text2'><use xlink:href='#icon-file-text2'></use></svg></label><input id='data-3bba9e2e-414a-4b3a-b868-1e7d1073fc5f' class='xr-var-data-in' type='checkbox'><label for='data-3bba9e2e-414a-4b3a-b868-1e7d1073fc5f' title='Show/Hide data repr'><svg class='icon xr-icon-database'><use xlink:href='#icon-database'></use></svg></label><div class='xr-var-attrs'><dl class='xr-attrs'><dt><span>units :</span></dt><dd>V s / rad</dd></dl></div><div class='xr-var-data'><pre>[346652800 values with dtype=float32]</pre></div></li><li class='xr-var-item'><div class='xr-var-name'><span>kappa</span></div><div class='xr-var-dims'>(times)</div><div class='xr-var-dtype'>float32</div><div class='xr-var-preview xr-preview'>1.418 1.867 1.864 ... 1.256 1.233</div><input id='attrs-cb303998-eb44-45b9-b885-7aafbea25a23' class='xr-var-attrs-in' type='checkbox' ><label for='attrs-cb303998-eb44-45b9-b885-7aafbea25a23' title='Show/Hide attributes'><svg class='icon xr-icon-file-text2'><use xlink:href='#icon-file-text2'></use></svg></label><input id='data-e3ec9062-f0b7-44a7-98be-30f14667c405' class='xr-var-data-in' type='checkbox'><label for='data-e3ec9062-f0b7-44a7-98be-30f14667c405' title='Show/Hide data repr'><svg class='icon xr-icon-database'><use xlink:href='#icon-database'></use></svg></label><div class='xr-var-attrs'><dl class='xr-attrs'><dt><span>units :</span></dt><dd> </dd></dl></div><div class='xr-var-data'><pre>array([1.418368, 1.86677 , 1.86366 , ..., 1.285004, 1.256257, 1.233419],\n",
       "      shape=(82048,), dtype=float32)</pre></div></li></ul></div></li><li class='xr-section-item'><input id='section-2bdfffc9-2cb2-40fe-a1b5-33175e3af5c9' class='xr-section-summary-in' type='checkbox'  ><label for='section-2bdfffc9-2cb2-40fe-a1b5-33175e3af5c9' class='xr-section-summary' >Indexes: <span>(4)</span></label><div class='xr-section-inline-details'></div><div class='xr-section-details'><ul class='xr-var-list'><li class='xr-var-item'><div class='xr-index-name'><div>times</div></div><div class='xr-index-preview'>PandasIndex</div><input type='checkbox' disabled/><label></label><input id='index-470726cf-97eb-48c0-929e-2b8f19b4ad0e' class='xr-index-data-in' type='checkbox'/><label for='index-470726cf-97eb-48c0-929e-2b8f19b4ad0e' title='Show/Hide index repr'><svg class='icon xr-icon-database'><use xlink:href='#icon-database'></use></svg></label><div class='xr-index-data'><pre>PandasIndex(Index([    100.0,     360.0,     460.0,     580.0,     620.0,     680.0,\n",
       "           800.0,     840.0,     860.0,     880.0,\n",
       "       ...\n",
       "       5265540.0, 5265560.0, 5265580.0, 5265600.0, 5265640.0, 5265680.0,\n",
       "       5265760.0, 5265820.0, 5265860.0, 5265900.0],\n",
       "      dtype=&#x27;float32&#x27;, name=&#x27;times&#x27;, length=82048))</pre></div></li><li class='xr-var-item'><div class='xr-index-name'><div>shot</div></div><div class='xr-index-preview'>PandasIndex</div><input type='checkbox' disabled/><label></label><input id='index-8a3e19d8-4903-4590-b31c-21152a7023c6' class='xr-index-data-in' type='checkbox'/><label for='index-8a3e19d8-4903-4590-b31c-21152a7023c6' title='Show/Hide index repr'><svg class='icon xr-icon-database'><use xlink:href='#icon-database'></use></svg></label><div class='xr-index-data'><pre>PandasIndex(Index([160016, 160067, 160072, 160076, 160110, 160158, 160172, 160185, 160300,\n",
       "       160308,\n",
       "       ...\n",
       "       194794, 194801, 194825, 194829, 194835, 194836, 194837, 194915, 194959,\n",
       "       194993],\n",
       "      dtype=&#x27;int32&#x27;, name=&#x27;shot&#x27;, length=1050))</pre></div></li><li class='xr-var-item'><div class='xr-index-name'><div>z</div></div><div class='xr-index-preview'>PandasIndex</div><input type='checkbox' disabled/><label></label><input id='index-83ffcd37-75b3-4bb1-9602-e5129b2981cb' class='xr-index-data-in' type='checkbox'/><label for='index-83ffcd37-75b3-4bb1-9602-e5129b2981cb' title='Show/Hide index repr'><svg class='icon xr-icon-database'><use xlink:href='#icon-database'></use></svg></label><div class='xr-index-data'><pre>PandasIndex(Index([  -1.600000023841858,  -1.5500000715255737,                 -1.5,\n",
       "        -1.4500000476837158,   -1.399999976158142,   -1.350000023841858,\n",
       "        -1.2999999523162842,                -1.25,  -1.2000000476837158,\n",
       "         -1.149999976158142,   -1.100000023841858,  -1.0499999523162842,\n",
       "                       -1.0,   -0.949999988079071,  -0.9000000357627869,\n",
       "        -0.8500000238418579,   -0.800000011920929,                -0.75,\n",
       "         -0.699999988079071,  -0.6500000357627869,  -0.6000000238418579,\n",
       "        -0.5499999523162842,                 -0.5,  -0.4500000476837158,\n",
       "        -0.3999999761581421,  -0.3500000238418579,  -0.2999999523162842,\n",
       "                      -0.25, -0.20000004768371582,  -0.1499999761581421,\n",
       "       -0.10000002384185791, -0.04999995231628418,                  0.0,\n",
       "        0.04999995231628418,  0.10000002384185791,   0.1499999761581421,\n",
       "        0.20000004768371582,                 0.25,   0.2999999523162842,\n",
       "         0.3500000238418579,   0.3999999761581421,  0.44999992847442627,\n",
       "         0.5000001192092896,   0.5500000715255737,   0.6000000238418579,\n",
       "         0.6499999761581421,   0.6999999284744263,   0.7500001192092896,\n",
       "         0.8000000715255737,   0.8500000238418579,   0.8999999761581421,\n",
       "         0.9499999284744263,   1.0000001192092896,   1.0500000715255737,\n",
       "          1.100000023841858,    1.149999976158142,   1.1999999284744263,\n",
       "         1.2500001192092896,   1.3000000715255737,    1.350000023841858,\n",
       "          1.399999976158142,   1.4499999284744263,   1.5000001192092896,\n",
       "         1.5500000715255737,    1.600000023841858],\n",
       "      dtype=&#x27;float32&#x27;, name=&#x27;z&#x27;))</pre></div></li><li class='xr-var-item'><div class='xr-index-name'><div>r</div></div><div class='xr-index-preview'>PandasIndex</div><input type='checkbox' disabled/><label></label><input id='index-884445b7-7a1b-42f5-8070-ed40027fd19e' class='xr-index-data-in' type='checkbox'/><label for='index-884445b7-7a1b-42f5-8070-ed40027fd19e' title='Show/Hide index repr'><svg class='icon xr-icon-database'><use xlink:href='#icon-database'></use></svg></label><div class='xr-index-data'><pre>PandasIndex(Index([0.8399999737739563, 0.8665624856948853, 0.8931249976158142,\n",
       "       0.9196875095367432, 0.9462499618530273, 0.9728124737739563,\n",
       "       0.9993749856948853, 1.0259374380111694, 1.0525000095367432,\n",
       "       1.0790624618530273, 1.1056249141693115, 1.1321874856948853,\n",
       "        1.158750057220459, 1.1853125095367432, 1.2118749618530273,\n",
       "       1.2384374141693115, 1.2649999856948853,  1.291562557220459,\n",
       "       1.3181250095367432, 1.3446874618530273, 1.3712499141693115,\n",
       "       1.3978124856948853,  1.424375057220459, 1.4509375095367432,\n",
       "       1.4774999618530273, 1.5040624141693115, 1.5306249856948853,\n",
       "        1.557187557220459, 1.5837500095367432, 1.6103124618530273,\n",
       "       1.6368749141693115, 1.6634374856948853,  1.690000057220459,\n",
       "       1.7165625095367432, 1.7431249618530273, 1.7696874141693115,\n",
       "       1.7962499856948853,  1.822812557220459, 1.8493750095367432,\n",
       "       1.8759374618530273, 1.9024999141693115, 1.9290626049041748,\n",
       "        1.955625057220459, 1.9821875095367432, 2.0087499618530273,\n",
       "       2.0353124141693115,  2.061875104904175,  2.088437557220459,\n",
       "        2.115000009536743, 2.1415624618530273, 2.1681249141693115,\n",
       "        2.194687604904175,  2.221250057220459,  2.247812509536743,\n",
       "       2.2743749618530273, 2.3009374141693115,  2.327500104904175,\n",
       "        2.354062557220459,  2.380625009536743, 2.4071874618530273,\n",
       "       2.4337499141693115,  2.460312604904175,  2.486875057220459,\n",
       "        2.513437509536743, 2.5399999618530273],\n",
       "      dtype=&#x27;float32&#x27;, name=&#x27;r&#x27;))</pre></div></li></ul></div></li><li class='xr-section-item'><input id='section-bb4fa89b-98c7-466f-814b-03dcfc61b410' class='xr-section-summary-in' type='checkbox' disabled ><label for='section-bb4fa89b-98c7-466f-814b-03dcfc61b410' class='xr-section-summary'  title='Expand/collapse section'>Attributes: <span>(0)</span></label><div class='xr-section-inline-details'></div><div class='xr-section-details'><dl class='xr-attrs'></dl></div></li></ul></div></div>"
      ],
      "text/plain": [
       "<xarray.Dataset> Size: 1GB\n",
       "Dimensions:  (times: 82048, z: 65, r: 65, shot: 1050)\n",
       "Coordinates:\n",
       "  * times    (times) float32 328kB 100.0 360.0 460.0 ... 5.266e+06 5.266e+06\n",
       "  * shot     (shot) int32 4kB 160016 160067 160072 ... 194915 194959 194993\n",
       "  * z        (z) float32 260B -1.6 -1.55 -1.5 -1.45 -1.4 ... 1.45 1.5 1.55 1.6\n",
       "  * r        (r) float32 260B 0.84 0.8666 0.8931 0.9197 ... 2.487 2.513 2.54\n",
       "Data variables:\n",
       "    psirz    (times, z, r) float32 1GB ...\n",
       "    kappa    (times) float32 328kB 1.418 1.867 1.864 1.876 ... 1.285 1.256 1.233"
      ]
     },
     "execution_count": 7,
     "metadata": {},
     "output_type": "execute_result"
    }
   ],
   "source": [
    "ds_small"
   ]
  },
  {
   "cell_type": "code",
   "execution_count": 8,
   "id": "a4677806-6f56-4851-9e17-501f4b9cb51f",
   "metadata": {},
   "outputs": [
    {
     "data": {
      "text/plain": [
       "(array([3.5000e+01, 0.0000e+00, 0.0000e+00, 0.0000e+00, 0.0000e+00,\n",
       "        0.0000e+00, 0.0000e+00, 0.0000e+00, 0.0000e+00, 2.0000e+00,\n",
       "        4.0000e+00, 2.0000e+00, 6.0000e+00, 6.0000e+00, 1.0300e+02,\n",
       "        5.3100e+02, 2.1390e+03, 5.3390e+03, 5.7110e+03, 6.2190e+03,\n",
       "        5.5370e+03, 6.6620e+03, 8.7040e+03, 6.3770e+03, 9.7460e+03,\n",
       "        1.0534e+04, 1.2197e+04, 2.0580e+03, 1.3200e+02, 4.0000e+00]),\n",
       " array([0.        , 0.07261186, 0.14522372, 0.21783558, 0.29044744,\n",
       "        0.36305931, 0.43567115, 0.50828302, 0.58089489, 0.65350676,\n",
       "        0.72611862, 0.79873049, 0.8713423 , 0.94395417, 1.01656604,\n",
       "        1.08917797, 1.16178977, 1.23440158, 1.30701351, 1.37962532,\n",
       "        1.45223725, 1.52484906, 1.59746099, 1.67007279, 1.7426846 ,\n",
       "        1.81529653, 1.88790834, 1.96052027, 2.03313208, 2.10574389,\n",
       "        2.17835593]),\n",
       " <BarContainer object of 30 artists>)"
      ]
     },
     "execution_count": 8,
     "metadata": {},
     "output_type": "execute_result"
    },
    {
     "data": {
      "image/png": "[encoded data removed]",
      "text/plain": [
       "<Figure size 640x480 with 1 Axes>"
      ]
     },
     "metadata": {},
     "output_type": "display_data"
    }
   ],
   "source": [
    "ds_small['kappa'].plot.hist(bins=30)"
   ]
  },
  {
   "cell_type": "markdown",
   "id": "c47d3c08-cffa-4dc3-9251-793553fc4725",
   "metadata": {},
   "source": [
    "### USe a small batch of the dataset"
   ]
  },
  {
   "cell_type": "code",
   "execution_count": 9,
   "id": "24e1d8d8-39d5-43ff-a1a1-6dfde747a072",
   "metadata": {},
   "outputs": [],
   "source": [
    "#REducing the Dataset size for less memory operations\n",
    "##ds_small=ds_kappa_psi.isel(times=slice(0,10000))"
   ]
  },
  {
   "cell_type": "markdown",
   "id": "196c5f4a-8cac-4238-bf31-c92fe8e63c79",
   "metadata": {},
   "source": [
    "### Define the Variables in our model"
   ]
  },
  {
   "cell_type": "code",
   "execution_count": 10,
   "id": "248696be-c9b4-41f8-b491-259af497ba9d",
   "metadata": {},
   "outputs": [],
   "source": [
    "y=ds_small['kappa'].values\n",
    "x=ds_small['psirz'].values"
   ]
  },
  {
   "cell_type": "code",
   "execution_count": 11,
   "id": "90ee1318-9388-4b46-9fd0-229c56aebf61",
   "metadata": {},
   "outputs": [
    {
     "data": {
      "text/plain": [
       "(82048, 65, 65)"
      ]
     },
     "execution_count": 11,
     "metadata": {},
     "output_type": "execute_result"
    }
   ],
   "source": [
    "np.shape(x)"
   ]
  },
  {
   "cell_type": "code",
   "execution_count": 12,
   "id": "d80f7ec9",
   "metadata": {},
   "outputs": [],
   "source": [
    "# Normalize each 2D array to range [0, 1] using its own min/max\n",
    "def normalize_to_range(tensor):\n",
    "    \"\"\"\n",
    "    Normalize each 2D array to range [0, 1] using its own min/max\n",
    "    tensor shape: (N, H, W) where N is number of samples\n",
    "    \"\"\"\n",
    "    normalized_list = []\n",
    "    for i in range(tensor.size(0)):\n",
    "        array_2d = tensor[i]\n",
    "        max_val = array_2d.max()\n",
    "        min_val = array_2d.min()\n",
    "        range_val = max_val - min_val\n",
    "        normalized_array = (array_2d - min_val) / range_val\n",
    "        normalized_list.append(normalized_array)\n",
    "    \n",
    "    return torch.stack(normalized_list)"
   ]
  },
  {
   "cell_type": "code",
   "execution_count": 13,
   "id": "935aac7c-2209-4508-96e5-77ff98d5c010",
   "metadata": {},
   "outputs": [
    {
     "name": "stdout",
     "output_type": "stream",
     "text": [
      "torch.Size([82048, 1, 65, 65])\n"
     ]
    }
   ],
   "source": [
    "y_tensor=torch.tensor(y)\n",
    "x_tensor=torch.tensor(x)\n",
    "x_tensor = torch.unsqueeze(x_tensor,1) #add channdel dimension (to be consistent with Pytorch standard)\n",
    "print(x_tensor.shape)\n",
    "\n",
    "#normalize x\n",
    "#x_mean = x_tensor.mean()\n",
    "#x_std = x_tensor.std()\n",
    "#x_tensor_normalized = (x_tensor - x_mean) / x_std\n",
    "x_tensor_normalized = normalize_to_range(x_tensor)\n",
    "\n",
    "#normalize y\n",
    "y_mean = y_tensor.mean()\n",
    "y_std = y_tensor.std()\n",
    "y_tensor_normalized = (y_tensor - y_mean) / y_std\n",
    "\n",
    "dataset=TensorDataset(x_tensor_normalized,y_tensor_normalized)"
   ]
  },
  {
   "cell_type": "code",
   "execution_count": 14,
   "id": "7fead9a0",
   "metadata": {},
   "outputs": [
    {
     "data": {
      "text/plain": [
       "<matplotlib.colorbar.Colorbar at 0x155401532ba0>"
      ]
     },
     "execution_count": 14,
     "metadata": {},
     "output_type": "execute_result"
    },
    {
     "data": {
      "image/png": "[encoded data removed]",
      "text/plain": [
       "<Figure size 640x480 with 2 Axes>"
      ]
     },
     "metadata": {},
     "output_type": "display_data"
    }
   ],
   "source": [
    "rand_index=300\n",
    "image_test=x_tensor_normalized[rand_index][0].numpy()\n",
    "plt.contourf(image_test,levels=50)\n",
    "plt.colorbar()"
   ]
  },
  {
   "cell_type": "markdown",
   "id": "38942d1a",
   "metadata": {},
   "source": [
    "## Splitting the dataset (training and testing)"
   ]
  },
  {
   "cell_type": "code",
   "execution_count": 15,
   "id": "1c632ac5-7129-4881-a913-9e7abc2f6e8f",
   "metadata": {},
   "outputs": [],
   "source": [
    "#split in to train(70%) and test(30%) datasets\n",
    "train_dataset, test_dataset = random_split(dataset,[0.7,0.3])"
   ]
  },
  {
   "cell_type": "code",
   "execution_count": 16,
   "id": "e8b13ac6-280c-494a-8ac8-42c5aa267b7d",
   "metadata": {},
   "outputs": [],
   "source": [
    "batch_size=64\n",
    "train_dataloader=DataLoader(train_dataset,batch_size=batch_size,pin_memory=True,shuffle=True)\n",
    "test_dataloader=DataLoader(test_dataset,batch_size=batch_size,pin_memory=True)"
   ]
  },
  {
   "cell_type": "code",
   "execution_count": 17,
   "id": "54ed71ed-151d-4c38-9505-c06cc3c8c3b1",
   "metadata": {},
   "outputs": [],
   "source": [
    "#calculate the number of 'steps' in the training(testing) loop for future calculations\n",
    "train_steps=len(train_dataloader.dataset)//batch_size\n",
    "test_steps=len(test_dataloader.dataset)//batch_size"
   ]
  },
  {
   "cell_type": "markdown",
   "id": "0f2d3de1-965d-4961-82a9-f23545238239",
   "metadata": {},
   "source": [
    "### Define the model"
   ]
  },
  {
   "cell_type": "code",
   "execution_count": 33,
   "id": "dd0b1a09-f0b4-4138-8a35-2fc7818c3f74",
   "metadata": {},
   "outputs": [],
   "source": [
    "class smallCNN(nn.Module):\n",
    "    def __init__(self):\n",
    "        super(CNN,self).__init__()\n",
    "        self.conv1=nn.Conv2d(in_channels=1,out_channels=5,kernel_size=5,stride=2,padding=1)\n",
    "        self.relu1=nn.ReLU()\n",
    "        self.pool1=nn.MaxPool2d(kernel_size=3,stride=2)\n",
    "        self.conv2=nn.Conv2d(in_channels=5,out_channels=15,kernel_size=5,stride=2,padding=0)\n",
    "        self.relu2=nn.ReLU()\n",
    "        self.pool2=nn.MaxPool2d(kernel_size=2,stride=1)\n",
    "        self.fc1=nn.Linear(375,100)\n",
    "        self.relu3=nn.ReLU()\n",
    "        self.drop1=nn.Dropout(0.2)\n",
    "        self.fc2=nn.Linear(100,30)\n",
    "        self.relu4=nn.ReLU()\n",
    "        self.drop2=nn.Dropout(0.2)\n",
    "        self.fc3=nn.Linear(30,1)\n",
    "\n",
    "    def forward(self,x):\n",
    "        #input batch*1*65*65  output batch*5*31*31\n",
    "        x=self.conv1(x)\n",
    "        x=self.relu1(x)\n",
    "        #input batch*5*31*31 output batch*5*15*15\n",
    "        x=self.pool1(x)\n",
    "        #input batch*5*15*15 output batch*15*6*6\n",
    "        x=self.conv2(x)\n",
    "        x=self.relu2(x)\n",
    "        #input batch*15*6*6 output batch*15*5*5\n",
    "        x=self.pool2(x)\n",
    "        \n",
    "        x=torch.flatten(x,1)\n",
    "        x=self.fc1(x)\n",
    "        x=self.relu3(x)\n",
    "        x=self.drop1(x)\n",
    "        x=self.fc2(x)\n",
    "        x=self.relu4(x)\n",
    "        x=self.drop2(x)\n",
    "        x=self.fc3(x)\n",
    "        return x\n",
    "    "
   ]
  },
  {
   "cell_type": "code",
   "execution_count": 34,
   "id": "c6cc1afc-61e3-45b1-9d1a-70f5707b6036",
   "metadata": {},
   "outputs": [],
   "source": [
    "class CNN(nn.Module):\n",
    "    def __init__(self):\n",
    "        super().__init__()\n",
    "        #first conv block\n",
    "        self.conv1=nn.Conv2d(in_channels=1,out_channels=10,kernel_size=8,stride=1,padding=0)\n",
    "        self.bn1=nn.BatchNorm2d(10)\n",
    "        self.relu1=nn.ReLU()\n",
    "        self.pool1=nn.MaxPool2d(kernel_size=2,stride=2)\n",
    "\n",
    "        #second conv block\n",
    "        self.conv2=nn.Conv2d(in_channels=10,out_channels=30,kernel_size=5,stride=1,padding=0)\n",
    "        self.bn2=nn.BatchNorm2d(30)\n",
    "        self.relu2=nn.ReLU()\n",
    "        self.pool2=nn.MaxPool2d(kernel_size=2,stride=2)\n",
    "\n",
    "        #third conv block\n",
    "        self.conv3=nn.Conv2d(in_channels=30,out_channels=50,kernel_size=4,stride=1,padding=0)\n",
    "        self.bn3=nn.BatchNorm2d(50)\n",
    "        self.relu3=nn.ReLU()\n",
    "        self.pool3=nn.MaxPool2d(kernel_size=3,stride=2)\n",
    "\n",
    "        #fully connected layers\n",
    "        self.fc1=nn.Linear(800,256)\n",
    "        self.bn4=nn.BatchNorm1d(256)\n",
    "        self.relu4=nn.ReLU()\n",
    "        self.drop1=nn.Dropout(0.2)\n",
    "\n",
    "        self.fc2=nn.Linear(256,64)\n",
    "        self.relu5=nn.ReLU()\n",
    "        self.drop2=nn.Dropout(0.2)\n",
    "\n",
    "        self.fc3=nn.Linear(64,1)\n",
    "\n",
    "    def forward(self,x):\n",
    "        #input batch*1*65*65  output batch*10*58*58\n",
    "        x=self.conv1(x)\n",
    "        x=self.bn1(x)\n",
    "        x=self.relu1(x)\n",
    "        #input batch*10*58*58 output batch*10*28*28\n",
    "        x=self.pool1(x)\n",
    "\n",
    "        #input batch*10*28*28 output batch*30*24*24\n",
    "        x=self.conv2(x)\n",
    "        x=self.bn2(x)\n",
    "        x=self.relu2(x)\n",
    "        #input batch*30*24*24 output batch*30*12*12\n",
    "        x=self.pool2(x)\n",
    "\n",
    "        #input batch*30*12*12 output batch*50*9*9\n",
    "        x=self.conv3(x)\n",
    "        x=self.bn3(x)\n",
    "        x=self.relu3(x)\n",
    "        #input batch*50*9*9 output batch*50*4*4\n",
    "        x=self.pool3(x)\n",
    "        \n",
    "        x=torch.flatten(x,1)\n",
    "        x=self.fc1(x)\n",
    "        x=self.bn4(x)\n",
    "        x=self.relu4(x)\n",
    "        x=self.drop1(x)\n",
    "\n",
    "        x=self.fc2(x)\n",
    "        x=self.relu5(x)\n",
    "        x=self.drop2(x)\n",
    "\n",
    "        x=self.fc3(x)\n",
    "        return x\n",
    "    "
   ]
  },
  {
   "cell_type": "code",
   "execution_count": 47,
   "id": "99d4147f-1263-471a-91eb-38010b8e42b2",
   "metadata": {},
   "outputs": [],
   "source": [
    "#hyperparameters\n",
    "learning_rate=0.001\n",
    "epochs=30\n",
    "#weight_decay = 1e-4  # L2 regularization"
   ]
  },
  {
   "cell_type": "code",
   "execution_count": 48,
   "id": "bc617515-3ed2-4918-9123-99673cdbeed5",
   "metadata": {},
   "outputs": [
    {
     "name": "stdout",
     "output_type": "stream",
     "text": [
      "Current epoch:1,  training loss:1.0059,  test loss0.9967\n",
      "Current epoch:2,  training loss:1.0041,  test loss0.9962\n",
      "Current epoch:3,  training loss:1.0034,  test loss0.9965\n",
      "Current epoch:4,  training loss:1.0021,  test loss0.9964\n",
      "Current epoch:5,  training loss:1.0012,  test loss1.0005\n",
      "Current epoch:6,  training loss:0.9992,  test loss1.0010\n",
      "Current epoch:7,  training loss:0.9977,  test loss1.0023\n",
      "Current epoch:8,  training loss:0.9977,  test loss0.9983\n",
      "Current epoch:9,  training loss:0.9971,  test loss1.0017\n",
      "Current epoch:10,  training loss:0.9973,  test loss1.0021\n",
      "Current epoch:11,  training loss:0.9969,  test loss0.9982\n",
      "Current epoch:12,  training loss:0.9966,  test loss0.9968\n",
      "Current epoch:13,  training loss:0.9953,  test loss0.9974\n",
      "Current epoch:14,  training loss:0.9954,  test loss0.9982\n",
      "Current epoch:15,  training loss:0.9949,  test loss0.9981\n",
      "Current epoch:16,  training loss:0.9968,  test loss1.0015\n",
      "Current epoch:17,  training loss:0.9950,  test loss1.0016\n",
      "Current epoch:18,  training loss:0.9950,  test loss0.9972\n",
      "Current epoch:19,  training loss:0.9939,  test loss1.0020\n",
      "Current epoch:20,  training loss:0.9931,  test loss1.0004\n",
      "Current epoch:21,  training loss:0.9941,  test loss0.9997\n",
      "Current epoch:22,  training loss:0.9945,  test loss0.9979\n",
      "Current epoch:23,  training loss:0.9941,  test loss0.9962\n",
      "Current epoch:24,  training loss:0.9927,  test loss0.9962\n",
      "Current epoch:25,  training loss:0.9929,  test loss0.9965\n",
      "Current epoch:26,  training loss:0.9937,  test loss0.9967\n",
      "Current epoch:27,  training loss:0.9929,  test loss0.9983\n",
      "Current epoch:28,  training loss:0.9922,  test loss0.9997\n",
      "Current epoch:29,  training loss:0.9929,  test loss0.9969\n",
      "Current epoch:30,  training loss:0.9922,  test loss0.9982\n",
      "CPU times: user 5min 24s, sys: 15min 23s, total: 20min 48s\n",
      "Wall time: 2min 5s\n"
     ]
    }
   ],
   "source": [
    "%%time\n",
    "model=CNN()\n",
    "model.to(device)\n",
    "optim=torch.optim.Adam(model.parameters(),lr=learning_rate)\n",
    "#optim=torch.optim.AdamW(model.parameters(),lr=learning_rate, weight_decay=weight_decay)\n",
    "loss_fn=nn.MSELoss()\n",
    "#loss_fn=nn.L1Loss()\n",
    "train_loss_list=[]\n",
    "test_loss_list=[]\n",
    "for e in range(epochs):\n",
    "    #train\n",
    "    model.train()\n",
    "    train_loss=0\n",
    "    for fluxsurf,kappa in train_dataloader:\n",
    "        fluxsurf = fluxsurf.to(device)\n",
    "        kappa = kappa.to(device)\n",
    "        predict = model(fluxsurf)\n",
    "        loss=loss_fn(predict,kappa)\n",
    "        optim.zero_grad()\n",
    "        loss.backward()\n",
    "        optim.step()\n",
    "        train_loss+=loss.item()\n",
    "    train_loss=train_loss/train_steps #average loss in the train loop\n",
    "    \n",
    "    #test\n",
    "    test_loss=0\n",
    "    with torch.no_grad():\n",
    "        model.eval()\n",
    "        for fluxsurf,kappa in test_dataloader:\n",
    "            fluxsurf = fluxsurf.to(device)\n",
    "            kappa = kappa.to(device)\n",
    "            predict=model(fluxsurf)\n",
    "            loss=loss_fn(predict,kappa)\n",
    "            test_loss+=loss.item()\n",
    "    test_loss=test_loss/test_steps\n",
    "            \n",
    "    print('Current epoch:{},  training loss:{:.4f},  test loss{:.4f}'.format(e+1,train_loss,test_loss))\n",
    "    train_loss_list.append(train_loss)\n",
    "    test_loss_list.append(test_loss)"
   ]
  },
  {
   "cell_type": "code",
   "execution_count": 49,
   "id": "205b27cb-bc45-4658-bff1-ffe945b2dbbf",
   "metadata": {},
   "outputs": [
    {
     "data": {
      "text/plain": [
       "<matplotlib.legend.Legend at 0x155368244f50>"
      ]
     },
     "execution_count": 49,
     "metadata": {},
     "output_type": "execute_result"
    },
    {
     "data": {
      "image/png": "[encoded data removed]",
      "text/plain": [
       "<Figure size 640x480 with 1 Axes>"
      ]
     },
     "metadata": {},
     "output_type": "display_data"
    }
   ],
   "source": [
    "plt.plot(train_loss_list,label='Train loss')\n",
    "plt.plot(test_loss_list,label='Test loss')\n",
    "plt.yscale('log')\n",
    "plt.legend()"
   ]
  },
  {
   "cell_type": "markdown",
   "id": "35e1d104-caf8-49fa-88ea-86a0382e2b49",
   "metadata": {},
   "source": [
    "### Analyze model error"
   ]
  },
  {
   "cell_type": "code",
   "execution_count": 51,
   "id": "d57bf9a8-1fb4-474b-8262-3712d5cae57e",
   "metadata": {
    "scrolled": true
   },
   "outputs": [],
   "source": [
    "real_kappa_list=[]\n",
    "predict_kappa_list=[]\n",
    "with torch.no_grad():\n",
    "    model.eval()\n",
    "    for fluxsurf,kappa in test_dataloader:\n",
    "        fluxsurf = fluxsurf.to(device)\n",
    "        kappa = kappa.to(device)\n",
    "        predict=model(fluxsurf)\n",
    "        #loss=loss_fn(predict,kappa)\n",
    "        predict=torch.squeeze(predict,1)\n",
    "        real_kappa_list.extend(kappa.cpu().tolist())\n",
    "        predict_kappa_list.extend(predict.cpu().tolist())\n",
    "real_kappa=np.array(real_kappa_list)\n",
    "predict_kappa=np.array(predict_kappa_list)"
   ]
  },
  {
   "cell_type": "code",
   "execution_count": 52,
   "id": "fc7d2ccb-61cb-4c5b-b407-eb7033d374ef",
   "metadata": {},
   "outputs": [
    {
     "name": "stdout",
     "output_type": "stream",
     "text": [
      "[-2.         -1.55555556 -1.11111111 -0.66666667 -0.22222222  0.22222222\n",
      "  0.66666667  1.11111111  1.55555556  2.        ]\n"
     ]
    },
    {
     "data": {
      "text/plain": [
       "Text(0.5, 1.0, 'Prediction vs Real Kappa (normalized)')"
      ]
     },
     "execution_count": 52,
     "metadata": {},
     "output_type": "execute_result"
    },
    {
     "data": {
      "image/png": "[encoded data removed]",
      "text/plain": [
       "<Figure size 640x480 with 1 Axes>"
      ]
     },
     "metadata": {},
     "output_type": "display_data"
    }
   ],
   "source": [
    "plt.plot(real_kappa,predict_kappa,linestyle='None',marker='d')\n",
    "aux_kappa_real=np.linspace(-2,2,10) #np.linspace(1.6,1.9,10)\n",
    "aux_kappa_predict=np.linspace(-2,2,10) #np.linspace(1.6,1.9,10)\n",
    "print(aux_kappa_predict)\n",
    "plt.plot(aux_kappa_real,aux_kappa_predict,linestyle='-',color='r',label='Prediction=Real')\n",
    "plt.xlabel('Kappa (Real)')\n",
    "plt.ylabel('Kappa (Predicted)')\n",
    "plt.legend()\n",
    "plt.title('Prediction vs Real Kappa (normalized)')"
   ]
  },
  {
   "cell_type": "code",
   "execution_count": 53,
   "id": "9086e514-110d-4b20-850f-a044c96b1ba7",
   "metadata": {},
   "outputs": [],
   "source": [
    "#mean absolute error\n",
    "mae=np.abs(real_kappa-predict_kappa)"
   ]
  },
  {
   "cell_type": "code",
   "execution_count": 54,
   "id": "4e76a710-647e-4e6c-8d73-81e20a35c362",
   "metadata": {},
   "outputs": [
    {
     "data": {
      "text/plain": [
       "Text(0, 0.5, 'MAE')"
      ]
     },
     "execution_count": 54,
     "metadata": {},
     "output_type": "execute_result"
    },
    {
     "data": {
      "image/png": "[encoded data removed]",
      "text/plain": [
       "<Figure size 640x480 with 1 Axes>"
      ]
     },
     "metadata": {},
     "output_type": "display_data"
    }
   ],
   "source": [
    "plt.plot(real_kappa,mae,linestyle='None',marker='d')\n",
    "plt.xlabel('kappa')\n",
    "plt.ylabel('MAE')"
   ]
  },
  {
   "cell_type": "code",
   "execution_count": 55,
   "id": "ec54825e-b88a-49dc-94e1-9287b09b252d",
   "metadata": {},
   "outputs": [
    {
     "data": {
      "text/plain": [
       "Text(0.5, 0, 'MAE')"
      ]
     },
     "execution_count": 55,
     "metadata": {},
     "output_type": "execute_result"
    },
    {
     "data": {
      "image/png": "[encoded data removed]",
      "text/plain": [
       "<Figure size 640x480 with 1 Axes>"
      ]
     },
     "metadata": {},
     "output_type": "display_data"
    }
   ],
   "source": [
    "plt.hist(mae,bins=40)\n",
    "plt.xlabel('MAE')"
   ]
  },
  {
   "cell_type": "code",
   "execution_count": 56,
   "id": "4629b94d-15b5-4ee0-80e0-192892f52af4",
   "metadata": {},
   "outputs": [
    {
     "data": {
      "text/plain": [
       "<matplotlib.legend.Legend at 0x155353b1cb90>"
      ]
     },
     "execution_count": 56,
     "metadata": {},
     "output_type": "execute_result"
    },
    {
     "data": {
      "image/png": "[encoded data removed]",
      "text/plain": [
       "<Figure size 640x480 with 1 Axes>"
      ]
     },
     "metadata": {},
     "output_type": "display_data"
    }
   ],
   "source": [
    "plt.hist(real_kappa,bins=30,label='Real')\n",
    "plt.hist(predict_kappa,bins=30,label='Prediction')\n",
    "plt.legend()"
   ]
  },
  {
   "cell_type": "code",
   "execution_count": 57,
   "id": "486bf8d6-8dcc-48fb-a330-6946d3fd0440",
   "metadata": {},
   "outputs": [
    {
     "data": {
      "text/plain": [
       "np.float64(0.00620948993844386)"
      ]
     },
     "execution_count": 57,
     "metadata": {},
     "output_type": "execute_result"
    }
   ],
   "source": [
    "real_kappa.mean()"
   ]
  },
  {
   "cell_type": "code",
   "execution_count": null,
   "id": "33e83914",
   "metadata": {},
   "outputs": [],
   "source": []
  },
  {
   "cell_type": "code",
   "execution_count": null,
   "id": "5871e5d2",
   "metadata": {},
   "outputs": [],
   "source": []
  },
  {
   "cell_type": "code",
   "execution_count": 58,
   "id": "f8c80fe5",
   "metadata": {},
   "outputs": [
    {
     "name": "stdout",
     "output_type": "stream",
     "text": [
      "Total parameters: 254491\n"
     ]
    }
   ],
   "source": [
    "total_params = sum(param.numel() for param in model.parameters())\n",
    "print(f\"Total parameters: {total_params}\")"
   ]
  },
  {
   "cell_type": "code",
   "execution_count": null,
   "id": "adf128f4",
   "metadata": {},
   "outputs": [],
   "source": []
  }
 ],
 "metadata": {
  "kernelspec": {
   "display_name": "Python 3 (ipykernel)",
   "language": "python",
   "name": "python3"
  },
  "language_info": {
   "codemirror_mode": {
    "name": "ipython",
    "version": 3
   },
   "file_extension": ".py",
   "mimetype": "text/x-python",
   "name": "python",
   "nbconvert_exporter": "python",
   "pygments_lexer": "ipython3",
   "version": "3.13.7"
  }
 },
 "nbformat": 4,
 "nbformat_minor": 5
}
